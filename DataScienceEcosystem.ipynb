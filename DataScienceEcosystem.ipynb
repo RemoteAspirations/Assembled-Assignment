{
 "cells": [
  {
   "cell_type": "markdown",
   "id": "917fb708-c298-409e-a3c8-880d5fb33bc3",
   "metadata": {},
   "source": [
    "# Data Science Tools and Ecosystem"
   ]
  },
  {
   "cell_type": "markdown",
   "id": "21ced17d-3954-4695-9a79-ff431674da30",
   "metadata": {},
   "source": [
    "#### In this notebook, Data Science Tools and Ecosystems are Summarized"
   ]
  },
  {
   "cell_type": "markdown",
   "id": "3daa598d-cb7a-46a6-94cd-1f82f55a7839",
   "metadata": {},
   "source": [
    "Some of the popular languages that Data Scientists use are:\n",
    "1. Python\n",
    "2. R\n",
    "3. Java"
   ]
  },
  {
   "attachments": {},
   "cell_type": "markdown",
   "id": "20512ea7-336b-4f5b-9e75-207387d67edf",
   "metadata": {},
   "source": [
    "Some of the commonly used libraries used by Data Scientists include:\n",
    "\n",
    "1. Numpy\n",
    "2. Scikit-Learn\n",
    "3. Matplotlib"
   ]
  },
  {
   "cell_type": "markdown",
   "id": "bbe5cc39-d9bc-413f-b6dc-13cac17c9cc6",
   "metadata": {},
   "source": [
    "|Data Science Tools|\n",
    "| -------------|\n",
    "|Jupyter Notebooks|\n",
    "|Pytorch|\n",
    "|ML Flow|"
   ]
  },
  {
   "cell_type": "markdown",
   "id": "2a5f5d93-3761-4aae-9236-6495af1dc62d",
   "metadata": {},
   "source": [
    "### Below are a few examples of evaluating arithmetic expressions in Python"
   ]
  },
  {
   "cell_type": "code",
   "execution_count": 25,
   "id": "880ef4f9-61ff-4a0a-bf1a-fb63beb00eac",
   "metadata": {},
   "outputs": [
    {
     "data": {
      "text/plain": [
       "17"
      ]
     },
     "execution_count": 25,
     "metadata": {},
     "output_type": "execute_result"
    }
   ],
   "source": [
    "# This a simple arithmetic expression to mutiply then add integers\n",
    "(3*4)+5"
   ]
  },
  {
   "cell_type": "code",
   "execution_count": 31,
   "id": "626b9e54-672b-4af9-86fe-78099fd87e72",
   "metadata": {},
   "outputs": [
    {
     "data": {
      "text/plain": [
       "3.3333333333333335"
      ]
     },
     "execution_count": 31,
     "metadata": {},
     "output_type": "execute_result"
    }
   ],
   "source": [
    "# This will convert 200 minutes to hours by dividing by 60\n",
    "200/60\n",
    "# Number of hours="
   ]
  },
  {
   "cell_type": "markdown",
   "id": "81748039-97f4-4285-8c4e-ac14da3cbda0",
   "metadata": {},
   "source": [
    "**Objectives**\n",
    "- List popular languages for Data Science\n",
    "- List Popular Libraries for Data Science\n",
    "- List Popular Tools for data Science\n",
    "- Give some examples of arithmetic expressions in Python"
   ]
  },
  {
   "cell_type": "markdown",
   "id": "00cbb738-2e80-4bf3-88cb-f0d9a35bc687",
   "metadata": {},
   "source": [
    "## Author\n",
    "Brian Degenstien"
   ]
  },
  {
   "cell_type": "code",
   "execution_count": null,
   "id": "9fb59ffe-b36e-4a2b-9ac7-a65b500b28ea",
   "metadata": {},
   "outputs": [],
   "source": []
  }
 ],
 "metadata": {
  "kernelspec": {
   "display_name": "Python [conda env:base] *",
   "language": "python",
   "name": "conda-base-py"
  },
  "language_info": {
   "codemirror_mode": {
    "name": "ipython",
    "version": 3
   },
   "file_extension": ".py",
   "mimetype": "text/x-python",
   "name": "python",
   "nbconvert_exporter": "python",
   "pygments_lexer": "ipython3",
   "version": "3.12.7"
  }
 },
 "nbformat": 4,
 "nbformat_minor": 5
}
